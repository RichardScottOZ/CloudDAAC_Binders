{
 "cells": [
  {
   "cell_type": "code",
   "execution_count": null,
   "id": "vital-monaco",
   "metadata": {},
   "outputs": [],
   "source": [
    "from satsearch import Search\n",
    "import stackstac, os, requests\n",
    "from netrc import netrc\n",
    "from subprocess import Popen\n",
    "from getpass import getpass"
   ]
  },
  {
   "cell_type": "code",
   "execution_count": null,
   "id": "accepted-survivor",
   "metadata": {},
   "outputs": [],
   "source": [
    "#Setup NASA Credentials\n",
    "\n",
    "urs = 'urs.earthdata.nasa.gov'    # Earthdata URL to call for authentication\n",
    "prompts = ['Enter NASA Earthdata Login Username \\n(or create an account at urs.earthdata.nasa.gov): ',\n",
    "           'Enter NASA Earthdata Login Password: ']\n",
    "homeDir = os.path.expanduser(\"~\")\n",
    "Popen('touch {0}.netrc | chmod og-rw {0}.netrc | echo machine {1} >> {0}.netrc'.format(homeDir + os.sep, urs), shell=True)\n",
    "Popen('echo login {} >> {}.netrc'.format(getpass(prompt=prompts[0]), homeDir + os.sep), shell=True)\n",
    "Popen('echo password {} >> {}.netrc'.format(getpass(prompt=prompts[1]), homeDir + os.sep), shell=True)\n",
    "del homeDir, urs, prompts"
   ]
  },
  {
   "cell_type": "code",
   "execution_count": null,
   "id": "subjective-foster",
   "metadata": {},
   "outputs": [],
   "source": [
    "#Get NASA Temp AWS Credentials\n",
    "s3_cred = requests.get('https://lpdaac.earthdata.nasa.gov/s3credentials').json()\n",
    "s3_cred"
   ]
  },
  {
   "cell_type": "code",
   "execution_count": null,
   "id": "recreational-nevada",
   "metadata": {},
   "outputs": [],
   "source": [
    "env = dict(GDAL_DISABLE_READDIR_ON_OPEN='YES', \n",
    "           GDAL_MAX_RAW_BLOCK_CACHE_SIZE='200000000',\n",
    "           GDAL_SWATH_SIZE='200000000',\n",
    "           VSI_CURL_CACHE_SIZE='200000000',\n",
    "           CPL_VSIL_CURL_ALLOWED_EXTENSIONS='TIF',\n",
    "           GDAL_HTTP_UNSAFESSL='YES',\n",
    "           GDAL_HTTP_COOKIEFILE=os.path.expanduser('~/cookies.txt'),\n",
    "           GDAL_HTTP_COOKIEJAR=os.path.expanduser('~/cookies.txt'),\n",
    "           AWS_REGION='us-west-2',\n",
    "           AWS_SECRET_ACCESS_KEY=s3_cred['secretAccessKey'],\n",
    "           AWS_ACCESS_KEY_ID=s3_cred['accessKeyId'],\n",
    "           AWS_SESSION_TOKEN=s3_cred['sessionToken'])"
   ]
  },
  {
   "cell_type": "code",
   "execution_count": null,
   "id": "saving-canadian",
   "metadata": {},
   "outputs": [],
   "source": []
  },
  {
   "cell_type": "code",
   "execution_count": null,
   "id": "decimal-arena",
   "metadata": {},
   "outputs": [],
   "source": [
    "def get_STAC_items(url, collection, dates, bbox):\n",
    "  results = Search.search(url=url,\n",
    "                      collections=collection, \n",
    "                      datetime=dates,\n",
    "                      bbox=bbox)\n",
    "\n",
    "  return(results)\n",
    "\n",
    "def remap_s3_url(stac):\n",
    "    for i,entry in enumerate(s_col):\n",
    "        for asset in entry['assets'].keys():\n",
    "            s_col[i]['assets'][asset]['href'] = s_col[i]['assets'][asset]['href'].replace('https://lpdaac.earthdata.nasa.gov/',\n",
    "                                                                                          '/vsis3/')\n",
    "    return(stac)\n",
    "\n",
    "url = 'https://cmr.earthdata.nasa.gov/stac/LPCLOUD/' \n",
    "collection = ['HLSS30.v1.5']#'C1711924822-LPCLOUD' #HLS\n",
    "bbox=[-104.79107047,   40.78311181, -104.67687336,   40.87008987]\n",
    "dates = '2013-02-01/2021-04-10'\n",
    "\n",
    "stac_items_hls = get_STAC_items(url,collection,dates,','.join(map(str, bbox))).items()\n",
    "s_col_hls = stac_items_hls.geojson()['features']\n",
    "\n",
    "s_col_hls_s3 = remap_s3_url(s_col_hls)"
   ]
  },
  {
   "cell_type": "code",
   "execution_count": null,
   "id": "exterior-exhibition",
   "metadata": {},
   "outputs": [],
   "source": [
    "url = 'https://cmr.earthdata.nasa.gov/stac/LPCLOUD/' \n",
    "collection = ['HLSS30.v1.5']#'C1711924822-LPCLOUD' #HLS\n",
    "bbox=[-104.79107047,   40.78311181, -104.67687336,   40.87008987]\n",
    "dates = '2013-02-01/2021-04-10'\n",
    "\n",
    "stac_items_hls = get_STAC_items(url,collection,dates,','.join(map(str, bbox))).items()\n",
    "s_col_hls = stac_items_hls.geojson()['features']\n",
    "\n",
    "s_col_hls_s3 = remap_s3_url(s_col_hls)"
   ]
  },
  {
   "cell_type": "code",
   "execution_count": null,
   "id": "opening-words",
   "metadata": {},
   "outputs": [],
   "source": [
    "stackstac.stack(s_col_hls,resolution=30,epsg=32613,assets=['B01'],gdal_env=stackstac.LayeredEnv(env))"
   ]
  },
  {
   "cell_type": "code",
   "execution_count": null,
   "id": "martial-oriental",
   "metadata": {},
   "outputs": [],
   "source": []
  },
  {
   "cell_type": "code",
   "execution_count": null,
   "id": "caring-leone",
   "metadata": {},
   "outputs": [],
   "source": []
  },
  {
   "cell_type": "code",
   "execution_count": null,
   "id": "broad-stanford",
   "metadata": {},
   "outputs": [],
   "source": [
    "stackstac.LayeredEnv.always()"
   ]
  },
  {
   "cell_type": "code",
   "execution_count": null,
   "id": "described-sally",
   "metadata": {},
   "outputs": [],
   "source": []
  },
  {
   "cell_type": "code",
   "execution_count": null,
   "id": "improving-queue",
   "metadata": {},
   "outputs": [],
   "source": []
  }
 ],
 "metadata": {
  "kernelspec": {
   "display_name": "Python [conda env:py_geo]",
   "language": "python",
   "name": "conda-env-py_geo-py"
  },
  "language_info": {
   "codemirror_mode": {
    "name": "ipython",
    "version": 3
   },
   "file_extension": ".py",
   "mimetype": "text/x-python",
   "name": "python",
   "nbconvert_exporter": "python",
   "pygments_lexer": "ipython3",
   "version": "3.8.8"
  }
 },
 "nbformat": 4,
 "nbformat_minor": 5
}
