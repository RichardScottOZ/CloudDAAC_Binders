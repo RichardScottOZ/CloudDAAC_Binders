{
 "cells": [
  {
   "cell_type": "code",
   "execution_count": null,
   "id": "interstate-procurement",
   "metadata": {},
   "outputs": [],
   "source": [
    "from satsearch import Search\n",
    "import stackstac, os, requests\n",
    "from netrc import netrc\n",
    "from subprocess import Popen\n",
    "from getpass import getpass\n",
    "import rasterio\n",
    "from distributed import LocalCluster,Client"
   ]
  },
  {
   "cell_type": "code",
   "execution_count": null,
   "id": "binding-banks",
   "metadata": {},
   "outputs": [],
   "source": [
    "data = 'hls'\n",
    "#data = 'sentinel_2a'\n",
    "s3 = False"
   ]
  },
  {
   "cell_type": "code",
   "execution_count": null,
   "id": "another-turkey",
   "metadata": {},
   "outputs": [],
   "source": [
    "if data == 'hls':\n",
    "    #Setup NASA Credentials\n",
    "    urs = 'urs.earthdata.nasa.gov'    # Earthdata URL to call for authentication\n",
    "    prompts = ['Enter NASA Earthdata Login Username \\n(or create an account at urs.earthdata.nasa.gov): ',\n",
    "               'Enter NASA Earthdata Login Password: ']\n",
    "    try:\n",
    "        netrcDir = os.path.expanduser(\"~/.netrc\")\n",
    "        netrc(netrcDir).authenticators(urs)[0]\n",
    "        del netrcDir\n",
    "\n",
    "    # Below, create a netrc file and prompt user for NASA Earthdata Login Username and Password\n",
    "    except FileNotFoundError:\n",
    "        homeDir = os.path.expanduser(\"~\")\n",
    "        Popen('touch {0}.netrc | chmod og-rw {0}.netrc | echo machine {1} >> {0}.netrc'.format(homeDir + os.sep, urs), shell=True)\n",
    "        Popen('echo login {} >> {}.netrc'.format(getpass(prompt=prompts[0]), homeDir + os.sep), shell=True)\n",
    "        Popen('echo password {} >> {}.netrc'.format(getpass(prompt=prompts[1]), homeDir + os.sep), shell=True)\n",
    "        del homeDir, urs, prompts"
   ]
  },
  {
   "cell_type": "code",
   "execution_count": null,
   "id": "about-scheme",
   "metadata": {},
   "outputs": [],
   "source": [
    "if s3:\n",
    "    #Get NASA Temp AWS Credentials\n",
    "    s3_cred = requests.get('https://lpdaac.earthdata.nasa.gov/s3credentials').json()\n",
    "    s3_cred\n",
    "    \n",
    "    env = dict(GDAL_DISABLE_READDIR_ON_OPEN='YES', \n",
    "           GDAL_MAX_RAW_BLOCK_CACHE_SIZE='200000000',\n",
    "           GDAL_SWATH_SIZE='200000000',\n",
    "           VSI_CURL_CACHE_SIZE='200000000',\n",
    "           CPL_VSIL_CURL_ALLOWED_EXTENSIONS='TIF',\n",
    "           GDAL_HTTP_UNSAFESSL='YES',\n",
    "           GDAL_HTTP_COOKIEFILE=os.path.expanduser('~/cookies.txt'),\n",
    "           GDAL_HTTP_COOKIEJAR=os.path.expanduser('~/cookies.txt'),\n",
    "           AWS_REGION='us-west-2',\n",
    "           AWS_SECRET_ACCESS_KEY=s3_cred['secretAccessKey'],\n",
    "           AWS_ACCESS_KEY_ID=s3_cred['accessKeyId'],\n",
    "           AWS_SESSION_TOKEN=s3_cred['sessionToken'])\n",
    "    os.environ.update(env)\n",
    "\n",
    "# Default to the StackStac ~.LayeredEnv\n",
    "else:\n",
    "    env = dict(GDAL_DISABLE_READDIR_ON_OPEN='EMPTY_DIR', \n",
    "                   AWS_NO_SIGN_REQUEST='YES',\n",
    "                   GDAL_MAX_RAW_BLOCK_CACHE_SIZE='200000000',\n",
    "                   GDAL_SWATH_SIZE='200000000',\n",
    "                   VSI_CURL_CACHE_SIZE='200000000',\n",
    "                   GDAL_HTTP_COOKIEFILE=os.path.expanduser('~/cookies.txt'),\n",
    "                   GDAL_HTTP_COOKIEJAR=os.path.expanduser('~/cookies.txt'))\n",
    "    os.environ.update(env)"
   ]
  },
  {
   "cell_type": "code",
   "execution_count": null,
   "id": "reduced-level",
   "metadata": {},
   "outputs": [],
   "source": [
    "def get_STAC_items(url, collection, dates, bbox):\n",
    "  results = Search.search(url=url,\n",
    "                      collections=collection, \n",
    "                      datetime=dates,\n",
    "                      bbox=bbox)\n",
    "\n",
    "  return(results)\n",
    "\n",
    "def remap_s3_url(stac):\n",
    "    for i,entry in enumerate(stac):\n",
    "        for asset in entry['assets'].keys():\n",
    "            stac[i]['assets'][asset]['href'] = stac[i]['assets'][asset]['href'].replace('https://lpdaac.earthdata.nasa.gov/',\n",
    "                                                                                          '/vsis3/')\n",
    "    return(stac)\n",
    "if data == 'hls':\n",
    "    url = 'https://cmr.earthdata.nasa.gov/stac/LPCLOUD/' \n",
    "    collection = ['HLSS30.v1.5']#'C1711924822-LPCLOUD' #HLS\n",
    "    bbox=[-104.79107047,   40.78311181, -104.67687336,   40.87008987]\n",
    "    dates = '2020-01-01/2021-02-10'\n",
    "\n",
    "    stac_items = get_STAC_items(url,collection,dates,','.join(map(str, bbox))).items()\n",
    "    s_col = stac_items.geojson()['features']\n",
    "    if s3:\n",
    "        s_col = remap_s3_url(s_col)\n",
    "if data == 'sentinel_2a':\n",
    "    url = 'https://earth-search.aws.element84.com/v0'\n",
    "    collection = ['sentinel-s2-l2a-cogs']\n",
    "    bbox=[-104.79107047,   40.78311181, -104.67687336,   40.87008987]\n",
    "    dates = '2020-11-01/2022-02-10'\n",
    "\n",
    "    stac_items = get_STAC_items(url,collection,dates,bbox).items()\n",
    "    s_col = stac_items.geojson()['features']\n",
    "    if s3:\n",
    "        s_col = remap_s3_url(s_col)\n",
    "print('Number of Items: ',len(s_col))"
   ]
  },
  {
   "cell_type": "code",
   "execution_count": null,
   "id": "vertical-advancement",
   "metadata": {},
   "outputs": [],
   "source": [
    "with rasterio.open(s_col[0]['assets']['B01']['href']) as src:\n",
    "    b= src.bounds\n",
    "    prof = src.profile\n",
    "    dtype = prof['dtype']\n",
    "    nodata = prof['nodata']\n",
    "    print(prof)"
   ]
  },
  {
   "cell_type": "code",
   "execution_count": null,
   "id": "victorian-concept",
   "metadata": {},
   "outputs": [],
   "source": [
    "#lab_extension = /user/<username>/proxy/8787/status\n",
    "cluster = LocalCluster(threads_per_worker=1)\n",
    "cl = Client(cluster)\n",
    "cl"
   ]
  },
  {
   "cell_type": "code",
   "execution_count": null,
   "id": "labeled-train",
   "metadata": {},
   "outputs": [],
   "source": [
    "da = stackstac.stack(s_col,dtype=dtype,\n",
    "                     fill_value=nodata,\n",
    "                     resolution=30,\n",
    "                     epsg=32613,\n",
    "                     chunksize=-1,\n",
    "                     assets=['B01'],\n",
    "                     bounds=list(b))#,gdal_env=stackstac.LayeredEnv(env))\n",
    "da"
   ]
  },
  {
   "cell_type": "code",
   "execution_count": null,
   "id": "still-assessment",
   "metadata": {},
   "outputs": [],
   "source": [
    "%timeit da.compute()"
   ]
  },
  {
   "cell_type": "markdown",
   "id": "continent-literature",
   "metadata": {},
   "source": [
    "| Data      |  Size | file method | LocalCluster Specs | timeit results |\n",
    "|-----------|-------|-------------|-------|----------------|\n",
    "| HLS       |1.21 GB|/vsis3/|workers=4;threadsperworker=1;mem=8.59GB|32.5 s ± 984 ms per loop (mean ± std. dev. of 7 runs, 1 loop each)|\n",
    "| HLS       |1.21 GB|/vsicurl/|workers=4;threadsperworker=1;mem=8.59GB| Does Not Complete |\n",
    "|Sentinel_2a|1.61 GB|/vsis3/|workers=4;threadsperworker=1;mem=8.59GB|10.9 s ± 273 ms per loop (mean ± std. dev. of 7 runs, 1 loop each)|\n",
    "|Sentinel_2a|1.61 GB|/vsicurl/|workers=4;threadsperworker=1;mem=8.59GB|11 s ± 375 ms per loop (mean ± std. dev. of 7 runs, 1 loop each)|"
   ]
  }
 ],
 "metadata": {
  "kernelspec": {
   "display_name": "Python [conda env:py_geo]",
   "language": "python",
   "name": "conda-env-py_geo-py"
  },
  "language_info": {
   "codemirror_mode": {
    "name": "ipython",
    "version": 3
   },
   "file_extension": ".py",
   "mimetype": "text/x-python",
   "name": "python",
   "nbconvert_exporter": "python",
   "pygments_lexer": "ipython3",
   "version": "3.8.8"
  }
 },
 "nbformat": 4,
 "nbformat_minor": 5
}
